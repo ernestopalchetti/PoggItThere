{
 "cells": [
  {
   "cell_type": "markdown",
   "id": "3ca2acb9",
   "metadata": {},
   "source": [
    "# Pogg It There\n",
    "## Creazione di una leggenda\n",
    "L'obiettivo è costruire tutto ciò che può rappresentare il poggialolì"
   ]
  },
  {
   "cell_type": "code",
   "execution_count": 7,
   "id": "ee72685f",
   "metadata": {},
   "outputs": [],
   "source": [
    "import numpy as np\n",
    "import matplotlib\n",
    "import matplotlib.pyplot as plt\n"
   ]
  },
  {
   "cell_type": "code",
   "execution_count": 45,
   "id": "a531998b",
   "metadata": {},
   "outputs": [],
   "source": [
    "def PoggItThere(x,y):\n",
    "    plt.figure\n",
    "    plt.plot(x,y,\"o\",color=\"red\")\n",
    "    plt.plot(np.linspace(x-0.3,x+0.3,100),[y-0.04]*100,color=\"brown\")\n",
    "    plt.plot([x-0.3]*100,np.linspace(y-1,y-0.04,100),color=\"brown\")\n",
    "    plt.plot([x+0.3]*100,np.linspace(y-1,y-0.04,100),color=\"brown\")\n",
    "\n",
    "    plt.axis([x-1, x+1, y-1, y+1])\n",
    "    "
   ]
  },
  {
   "cell_type": "code",
   "execution_count": 46,
   "id": "9dd7456a",
   "metadata": {},
   "outputs": [
    {
     "data": {
      "image/png": "[encoded data removed]",
      "text/plain": [
       "<Figure size 432x288 with 1 Axes>"
      ]
     },
     "metadata": {
      "needs_background": "light"
     },
     "output_type": "display_data"
    }
   ],
   "source": [
    "li=1\n",
    "eli=2\n",
    "PoggItThere(li,eli)"
   ]
  },
  {
   "cell_type": "code",
   "execution_count": null,
   "id": "15ccd5f1",
   "metadata": {},
   "outputs": [],
   "source": []
  }
 ],
 "metadata": {
  "kernelspec": {
   "display_name": "Python 3 (ipykernel)",
   "language": "python",
   "name": "python3"
  },
  "language_info": {
   "codemirror_mode": {
    "name": "ipython",
    "version": 3
   },
   "file_extension": ".py",
   "mimetype": "text/x-python",
   "name": "python",
   "nbconvert_exporter": "python",
   "pygments_lexer": "ipython3",
   "version": "3.10.4"
  }
 },
 "nbformat": 4,
 "nbformat_minor": 5
}
